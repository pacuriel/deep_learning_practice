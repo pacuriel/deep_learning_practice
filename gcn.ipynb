{
 "cells": [
  {
   "cell_type": "markdown",
   "metadata": {},
   "source": [
    "# GCN using NumPy\n",
    "\n",
    "Based on \"Graph Convolutional Networks using only Numpy\" video by WelcomeAIOverlords on YouTube"
   ]
  },
  {
   "cell_type": "code",
   "execution_count": 1,
   "metadata": {},
   "outputs": [],
   "source": [
    "import numpy as np\n",
    "import networkx as nx\n",
    "from scipy.linalg import sqrtm\n",
    "# import matplotlib.pyplot as plt"
   ]
  },
  {
   "cell_type": "markdown",
   "metadata": {},
   "source": [
    "Loading in graph and its adjacency matrix"
   ]
  },
  {
   "cell_type": "code",
   "execution_count": 2,
   "metadata": {},
   "outputs": [
    {
     "data": {
      "text/plain": [
       "array([[0., 4., 5., ..., 2., 0., 0.],\n",
       "       [4., 0., 6., ..., 0., 0., 0.],\n",
       "       [5., 6., 0., ..., 0., 2., 0.],\n",
       "       ...,\n",
       "       [2., 0., 0., ..., 0., 4., 4.],\n",
       "       [0., 0., 2., ..., 4., 0., 5.],\n",
       "       [0., 0., 0., ..., 4., 5., 0.]])"
      ]
     },
     "execution_count": 2,
     "metadata": {},
     "output_type": "execute_result"
    }
   ],
   "source": [
    "G = nx.karate_club_graph() #graph\n",
    "A = nx.to_numpy_array(G) #adj matrix\n",
    "A"
   ]
  },
  {
   "cell_type": "markdown",
   "metadata": {},
   "source": [
    "Getting community labels from Karate club"
   ]
  },
  {
   "cell_type": "code",
   "execution_count": 3,
   "metadata": {},
   "outputs": [
    {
     "data": {
      "text/plain": [
       "{0: 'Mr. Hi',\n",
       " 1: 'Mr. Hi',\n",
       " 2: 'Mr. Hi',\n",
       " 3: 'Mr. Hi',\n",
       " 4: 'Mr. Hi',\n",
       " 5: 'Mr. Hi',\n",
       " 6: 'Mr. Hi',\n",
       " 7: 'Mr. Hi',\n",
       " 8: 'Mr. Hi',\n",
       " 9: 'Officer',\n",
       " 10: 'Mr. Hi',\n",
       " 11: 'Mr. Hi',\n",
       " 12: 'Mr. Hi',\n",
       " 13: 'Mr. Hi',\n",
       " 14: 'Officer',\n",
       " 15: 'Officer',\n",
       " 16: 'Mr. Hi',\n",
       " 17: 'Mr. Hi',\n",
       " 18: 'Officer',\n",
       " 19: 'Mr. Hi',\n",
       " 20: 'Officer',\n",
       " 21: 'Mr. Hi',\n",
       " 22: 'Officer',\n",
       " 23: 'Officer',\n",
       " 24: 'Officer',\n",
       " 25: 'Officer',\n",
       " 26: 'Officer',\n",
       " 27: 'Officer',\n",
       " 28: 'Officer',\n",
       " 29: 'Officer',\n",
       " 30: 'Officer',\n",
       " 31: 'Officer',\n",
       " 32: 'Officer',\n",
       " 33: 'Officer'}"
      ]
     },
     "execution_count": 3,
     "metadata": {},
     "output_type": "execute_result"
    }
   ],
   "source": [
    "club_labels = nx.get_node_attributes(G, 'club')\n",
    "club_labels"
   ]
  },
  {
   "cell_type": "markdown",
   "metadata": {},
   "source": [
    "Loading in normalized form of adjacency matrix from Kipf and Welling's GCN paper:\n",
    "\n",
    "$$\\hat{A} = \\tilde{D}^{-\\frac{1}{2}}\\tilde{A}\\tilde{D}^{-\\frac{1}{2}}$$\n",
    "\n",
    "where $\\tilde{A} = A + I$ introduces self connections and $\\hat{A}_{i,j} = \\frac{1}{\\sqrt{\\tilde{d_i}\\tilde{d_j}}}\\tilde{A}_{i,j}$ "
   ]
  },
  {
   "cell_type": "code",
   "execution_count": 4,
   "metadata": {},
   "outputs": [],
   "source": [
    "A_tilde = A = np.eye(G.number_of_nodes())\n",
    "\n",
    "D_tilde = np.zeros_like(A_tilde)\n",
    "np.fill_diagonal(D_tilde, np.asarray(A_tilde.sum(axis=1)).flatten())\n",
    "\n",
    "D_tilde_invroot = np.linalg.inv(sqrtm(D_tilde))\n",
    "\n",
    "A_hat = D_tilde_invroot @ A_tilde @ D_tilde_invroot\n",
    "\n",
    "# np.all(D_tilde == np.eye(G.number_of_nodes()))"
   ]
  },
  {
   "cell_type": "markdown",
   "metadata": {},
   "source": [
    "Introducing node features using the identity as input features for lack of features. This will map each node to a column of learnable parameters in the first layer. "
   ]
  },
  {
   "cell_type": "code",
   "execution_count": 5,
   "metadata": {},
   "outputs": [],
   "source": [
    "X = np.eye(G.number_of_nodes())"
   ]
  },
  {
   "cell_type": "markdown",
   "metadata": {},
   "source": [
    "Helper/utility functions"
   ]
  },
  {
   "cell_type": "code",
   "execution_count": 6,
   "metadata": {},
   "outputs": [],
   "source": [
    "#function to initialize weights\n",
    "def glotrot_init(nin, nout):\n",
    "    sd = np.sqrt(6.0 / (nin + nout))\n",
    "    return np.random.uniform(-sd, sd, size=(nin, nout))\n",
    "\n",
    "def xent(pred, labels):\n",
    "    return -np.log(pred)[np.arange(pred.shpae[0]), np.argmax(labels, axis=1)]\n",
    "\n",
    "def norm_diff(dW, dW_approx):\n",
    "    return np.linalg.norm(dW - dW_approx) / (np.linalg.norm(dW) + np.linalg.norm(dW_approx))\n",
    "\n",
    "#class for Gradient Descent optimize\n",
    "class GradDescentOptim():\n",
    "    def __init__(self, lr, wd):\n",
    "        self.lr = lr\n",
    "        self.wd = wd\n",
    "        self._y_pred = None\n",
    "        self._y_true = None\n",
    "        self._out = None\n",
    "        self.bs = None\n",
    "        self.train_nodes = None\n",
    "        \n",
    "    def __call__(self, y_pred, y_true, train_nodes=None):\n",
    "        self.y_pred = y_pred\n",
    "        self.y_true = y_true\n",
    "        \n",
    "        if train_nodes is None:\n",
    "            self.train_nodes = np.arange(y_pred.shape[0])\n",
    "        else:\n",
    "            self.train_nodes = train_nodes\n",
    "            \n",
    "        self.bs = self.train_nodes.shape[0]\n",
    "        \n",
    "    @property\n",
    "    def out(self):\n",
    "        return self._out\n",
    "    \n",
    "    @out.setter\n",
    "    def out(self, y):\n",
    "        self._out = y"
   ]
  },
  {
   "cell_type": "markdown",
   "metadata": {},
   "source": [
    "Creating class representing a single GCN layer. These can then be stacked to create a full GCN model. Kipf and Welling represent a layer by the following:\n",
    "\n",
    "$$H^{l + 1} = \\sigma{(W \\hat{A} H^l)}$$\n",
    "\n",
    "where $l$ is the layer number, $H^0$ represents the input features, $\\hat{A}H^l$ represents the GCN's message passing, $W$ represents a learned weight matrix, and $\\sigma{(\\cdot)}$ represents a nonlinear activation function"
   ]
  },
  {
   "cell_type": "code",
   "execution_count": 7,
   "metadata": {},
   "outputs": [],
   "source": [
    "class GCNLayer():\n",
    "    def __init__(self, n_inputs, n_outputs, activation=None, name=\"\"):\n",
    "        self.n_inputs = n_inputs\n",
    "        self.n_outputs = n_outputs\n",
    "        self.W = glorot_init(self.n_outputs, self.n_inputs) \n",
    "        self.activation = activation\n",
    "        self.name = name\n",
    "\n",
    "    def __repr__(self):\n",
    "        return f\"GCN: W{('_' + self.name) if self.name else ''}\"\n",
    "    \n",
    "    def forward(self, A, X, W=None):\n",
    "        \"\"\"\n",
    "        A = bs x bs normalized adjacency matrix (bs = batch size)\n",
    "        X = bs x D input features (D = length of input features)\n",
    "        \"\"\"\n",
    "        self._X = (A @ X).T #calculating gradients (D x bs)\n",
    "        \n",
    "        if W is None:\n",
    "            W = self.W\n",
    "\n",
    "        H = W @ self._X #(h x D) * (D x bs) = (h x bs)\n",
    "\n",
    "        if self.activation is not None:\n",
    "            H = self.activation(H)\n",
    "    \n",
    "        self._H = H #(h x bs)\n",
    "\n",
    "        return self._H.T #(bs x h)\n",
    "    \n",
    "    def backward(self, optim, update=True):\n",
    "        dtanh = 1 - np.asarray(self._H.T)**2 #(bs x out_dim)\n",
    "        \n",
    "        pass"
   ]
  },
  {
   "cell_type": "markdown",
   "metadata": {},
   "source": [
    "left off around 5:30"
   ]
  }
 ],
 "metadata": {
  "kernelspec": {
   "display_name": "graphs",
   "language": "python",
   "name": "python3"
  },
  "language_info": {
   "codemirror_mode": {
    "name": "ipython",
    "version": 3
   },
   "file_extension": ".py",
   "mimetype": "text/x-python",
   "name": "python",
   "nbconvert_exporter": "python",
   "pygments_lexer": "ipython3",
   "version": "3.11.8"
  }
 },
 "nbformat": 4,
 "nbformat_minor": 2
}
